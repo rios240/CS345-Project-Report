{
 "cells": [
  {
   "cell_type": "markdown",
   "id": "6858111f-f149-492c-984d-c2994218920c",
   "metadata": {},
   "source": [
    "# CS345 Project Final Report: Machine Learning Analysis on Windows Portable Executable File Analysis\n",
    "*Author: Tyler Rios*\n",
    "\n",
    "*GitHub: [https://github.com/rios240/CS345-Project-Report](https://github.com/rios240/CS345-Project-Report)*"
   ]
  },
  {
   "cell_type": "markdown",
   "id": "0c1fb6e7-1d2a-4350-9d1c-922b7c064b4a",
   "metadata": {},
   "source": [
    "### Introduction\n",
    "In the ever-evolving landscape of cybersecurity, the detection and analysis of malware are critical tasks for safeguarding digital systems. Windows Portable Executable (PE) files, being a fundamental component of Windows operating systems, are often targeted by malicious actors to execute and propagate malware. This project aims to leverage machine learning techniques to analyze a curated dataset of Windows PE malware, comparing predictive models for malware detection."
   ]
  },
  {
   "cell_type": "markdown",
   "id": "1e4e9922-fef8-41bb-a79a-8436b3a72df2",
   "metadata": {},
   "source": [
    "The data set employed in this report is the SOMLAP PE Malware data set which comprises a diverse collection of Windows PE sample files.\n",
    "\n",
    "More information on SOMLAP data set can be found here:\n",
    "- [https://www.kaggle.com/datasets/ravikiranvarmap/somlap-data-set](https://www.kaggle.com/datasets/ravikiranvarmap/somlap-data-set)\n",
    "- Kattamuri, Santosh Jhansi, Ravi Kiran Varma Penmatsa, Sujata Chakravarty, and Venkata Sai Pavan Madabathula. 2023. \"Swarm Optimization and Machine Learning Applied to PE Malware Detection towards Cyber Threat Intelligence\" Electronics 12, no. 2: 342.\n",
    "https://doi.org/10.3390/electronics12020342"
   ]
  },
  {
   "cell_type": "markdown",
   "id": "d904025a-7af7-4d53-ab88-490dbb0c1f16",
   "metadata": {},
   "source": [
    "### About the Data Set"
   ]
  },
  {
   "cell_type": "markdown",
   "id": "50f5bfca-dd6a-49de-9e02-a8f4e9f0997a",
   "metadata": {},
   "source": [
    "We'll begin by importing and showing general information about the data set that could influence preprocessing and classifier configurations."
   ]
  },
  {
   "cell_type": "code",
   "execution_count": 1,
   "id": "efaf78ab-c3f9-4886-90a8-710313efd5b3",
   "metadata": {},
   "outputs": [
    {
     "data": {
      "text/html": [
       "<div>\n",
       "<style scoped>\n",
       "    .dataframe tbody tr th:only-of-type {\n",
       "        vertical-align: middle;\n",
       "    }\n",
       "\n",
       "    .dataframe tbody tr th {\n",
       "        vertical-align: top;\n",
       "    }\n",
       "\n",
       "    .dataframe thead th {\n",
       "        text-align: right;\n",
       "    }\n",
       "</style>\n",
       "<table border=\"1\" class=\"dataframe\">\n",
       "  <thead>\n",
       "    <tr style=\"text-align: right;\">\n",
       "      <th></th>\n",
       "      <th>blp</th>\n",
       "      <th>Fp</th>\n",
       "      <th>Rn</th>\n",
       "      <th>Prhdr</th>\n",
       "      <th>Minpar</th>\n",
       "      <th>Maxpar</th>\n",
       "      <th>Ivalss</th>\n",
       "      <th>Ivalsp</th>\n",
       "      <th>doscksum</th>\n",
       "      <th>Iip</th>\n",
       "      <th>...</th>\n",
       "      <th>bss_viraddr</th>\n",
       "      <th>bss_datsize</th>\n",
       "      <th>bss_ptrrawdat</th>\n",
       "      <th>bss_char</th>\n",
       "      <th>bss_entro</th>\n",
       "      <th>bss_phyaddr.1</th>\n",
       "      <th>bss_virsize.1</th>\n",
       "      <th>bss_viraddr.1</th>\n",
       "      <th>bss_char.1</th>\n",
       "      <th>class</th>\n",
       "    </tr>\n",
       "  </thead>\n",
       "  <tbody>\n",
       "    <tr>\n",
       "      <th>0</th>\n",
       "      <td>144</td>\n",
       "      <td>3</td>\n",
       "      <td>0</td>\n",
       "      <td>4</td>\n",
       "      <td>0</td>\n",
       "      <td>65535</td>\n",
       "      <td>0</td>\n",
       "      <td>184</td>\n",
       "      <td>0</td>\n",
       "      <td>0</td>\n",
       "      <td>...</td>\n",
       "      <td>0</td>\n",
       "      <td>0</td>\n",
       "      <td>0</td>\n",
       "      <td>0</td>\n",
       "      <td>0.0</td>\n",
       "      <td>0</td>\n",
       "      <td>0</td>\n",
       "      <td>0</td>\n",
       "      <td>0</td>\n",
       "      <td>0</td>\n",
       "    </tr>\n",
       "    <tr>\n",
       "      <th>1</th>\n",
       "      <td>144</td>\n",
       "      <td>3</td>\n",
       "      <td>0</td>\n",
       "      <td>4</td>\n",
       "      <td>0</td>\n",
       "      <td>65535</td>\n",
       "      <td>0</td>\n",
       "      <td>184</td>\n",
       "      <td>0</td>\n",
       "      <td>0</td>\n",
       "      <td>...</td>\n",
       "      <td>0</td>\n",
       "      <td>0</td>\n",
       "      <td>0</td>\n",
       "      <td>0</td>\n",
       "      <td>0.0</td>\n",
       "      <td>0</td>\n",
       "      <td>0</td>\n",
       "      <td>0</td>\n",
       "      <td>0</td>\n",
       "      <td>0</td>\n",
       "    </tr>\n",
       "    <tr>\n",
       "      <th>2</th>\n",
       "      <td>144</td>\n",
       "      <td>3</td>\n",
       "      <td>0</td>\n",
       "      <td>4</td>\n",
       "      <td>0</td>\n",
       "      <td>65535</td>\n",
       "      <td>0</td>\n",
       "      <td>184</td>\n",
       "      <td>0</td>\n",
       "      <td>0</td>\n",
       "      <td>...</td>\n",
       "      <td>0</td>\n",
       "      <td>0</td>\n",
       "      <td>0</td>\n",
       "      <td>0</td>\n",
       "      <td>0.0</td>\n",
       "      <td>0</td>\n",
       "      <td>0</td>\n",
       "      <td>0</td>\n",
       "      <td>0</td>\n",
       "      <td>0</td>\n",
       "    </tr>\n",
       "    <tr>\n",
       "      <th>3</th>\n",
       "      <td>144</td>\n",
       "      <td>3</td>\n",
       "      <td>0</td>\n",
       "      <td>4</td>\n",
       "      <td>0</td>\n",
       "      <td>65535</td>\n",
       "      <td>0</td>\n",
       "      <td>184</td>\n",
       "      <td>0</td>\n",
       "      <td>0</td>\n",
       "      <td>...</td>\n",
       "      <td>0</td>\n",
       "      <td>0</td>\n",
       "      <td>0</td>\n",
       "      <td>0</td>\n",
       "      <td>0.0</td>\n",
       "      <td>0</td>\n",
       "      <td>0</td>\n",
       "      <td>0</td>\n",
       "      <td>0</td>\n",
       "      <td>0</td>\n",
       "    </tr>\n",
       "    <tr>\n",
       "      <th>4</th>\n",
       "      <td>144</td>\n",
       "      <td>3</td>\n",
       "      <td>0</td>\n",
       "      <td>4</td>\n",
       "      <td>0</td>\n",
       "      <td>65535</td>\n",
       "      <td>0</td>\n",
       "      <td>184</td>\n",
       "      <td>0</td>\n",
       "      <td>0</td>\n",
       "      <td>...</td>\n",
       "      <td>0</td>\n",
       "      <td>0</td>\n",
       "      <td>0</td>\n",
       "      <td>0</td>\n",
       "      <td>0.0</td>\n",
       "      <td>0</td>\n",
       "      <td>0</td>\n",
       "      <td>0</td>\n",
       "      <td>0</td>\n",
       "      <td>0</td>\n",
       "    </tr>\n",
       "  </tbody>\n",
       "</table>\n",
       "<p>5 rows × 109 columns</p>\n",
       "</div>"
      ],
      "text/plain": [
       "   blp  Fp  Rn  Prhdr  Minpar  Maxpar  Ivalss  Ivalsp  doscksum  Iip  ...  \\\n",
       "0  144   3   0      4       0   65535       0     184         0    0  ...   \n",
       "1  144   3   0      4       0   65535       0     184         0    0  ...   \n",
       "2  144   3   0      4       0   65535       0     184         0    0  ...   \n",
       "3  144   3   0      4       0   65535       0     184         0    0  ...   \n",
       "4  144   3   0      4       0   65535       0     184         0    0  ...   \n",
       "\n",
       "   bss_viraddr  bss_datsize  bss_ptrrawdat  bss_char  bss_entro  \\\n",
       "0            0            0              0         0        0.0   \n",
       "1            0            0              0         0        0.0   \n",
       "2            0            0              0         0        0.0   \n",
       "3            0            0              0         0        0.0   \n",
       "4            0            0              0         0        0.0   \n",
       "\n",
       "   bss_phyaddr.1  bss_virsize.1  bss_viraddr.1  bss_char.1  class  \n",
       "0              0              0              0           0      0  \n",
       "1              0              0              0           0      0  \n",
       "2              0              0              0           0      0  \n",
       "3              0              0              0           0      0  \n",
       "4              0              0              0           0      0  \n",
       "\n",
       "[5 rows x 109 columns]"
      ]
     },
     "execution_count": 1,
     "metadata": {},
     "output_type": "execute_result"
    }
   ],
   "source": [
    "import pandas as pd\n",
    "import numpy as np\n",
    "\n",
    "url = 'https://raw.githubusercontent.com/rios240/CS345-Project-Report/main/SOMLAP%20DATASET.csv'\n",
    "\n",
    "somlap = pd.read_csv(url)\n",
    "\n",
    "somlap.head()"
   ]
  },
  {
   "cell_type": "code",
   "execution_count": 2,
   "id": "984a3510-061c-4936-baff-34e385f1febb",
   "metadata": {},
   "outputs": [
    {
     "data": {
      "text/html": [
       "<div>\n",
       "<style scoped>\n",
       "    .dataframe tbody tr th:only-of-type {\n",
       "        vertical-align: middle;\n",
       "    }\n",
       "\n",
       "    .dataframe tbody tr th {\n",
       "        vertical-align: top;\n",
       "    }\n",
       "\n",
       "    .dataframe thead th {\n",
       "        text-align: right;\n",
       "    }\n",
       "</style>\n",
       "<table border=\"1\" class=\"dataframe\">\n",
       "  <thead>\n",
       "    <tr style=\"text-align: right;\">\n",
       "      <th></th>\n",
       "      <th>blp</th>\n",
       "      <th>Fp</th>\n",
       "      <th>Rn</th>\n",
       "      <th>Prhdr</th>\n",
       "      <th>Minpar</th>\n",
       "      <th>Maxpar</th>\n",
       "      <th>Ivalss</th>\n",
       "      <th>Ivalsp</th>\n",
       "      <th>doscksum</th>\n",
       "      <th>Iip</th>\n",
       "      <th>...</th>\n",
       "      <th>bss_viraddr</th>\n",
       "      <th>bss_datsize</th>\n",
       "      <th>bss_ptrrawdat</th>\n",
       "      <th>bss_char</th>\n",
       "      <th>bss_entro</th>\n",
       "      <th>bss_phyaddr.1</th>\n",
       "      <th>bss_virsize.1</th>\n",
       "      <th>bss_viraddr.1</th>\n",
       "      <th>bss_char.1</th>\n",
       "      <th>class</th>\n",
       "    </tr>\n",
       "  </thead>\n",
       "  <tbody>\n",
       "    <tr>\n",
       "      <th>51403</th>\n",
       "      <td>144</td>\n",
       "      <td>3</td>\n",
       "      <td>0</td>\n",
       "      <td>4</td>\n",
       "      <td>0</td>\n",
       "      <td>65535</td>\n",
       "      <td>0</td>\n",
       "      <td>184</td>\n",
       "      <td>0</td>\n",
       "      <td>0</td>\n",
       "      <td>...</td>\n",
       "      <td>0</td>\n",
       "      <td>0</td>\n",
       "      <td>0</td>\n",
       "      <td>0</td>\n",
       "      <td>0.0</td>\n",
       "      <td>0</td>\n",
       "      <td>0</td>\n",
       "      <td>0</td>\n",
       "      <td>0</td>\n",
       "      <td>1</td>\n",
       "    </tr>\n",
       "    <tr>\n",
       "      <th>51404</th>\n",
       "      <td>144</td>\n",
       "      <td>3</td>\n",
       "      <td>0</td>\n",
       "      <td>4</td>\n",
       "      <td>0</td>\n",
       "      <td>65535</td>\n",
       "      <td>0</td>\n",
       "      <td>184</td>\n",
       "      <td>0</td>\n",
       "      <td>0</td>\n",
       "      <td>...</td>\n",
       "      <td>0</td>\n",
       "      <td>0</td>\n",
       "      <td>0</td>\n",
       "      <td>0</td>\n",
       "      <td>0.0</td>\n",
       "      <td>0</td>\n",
       "      <td>0</td>\n",
       "      <td>0</td>\n",
       "      <td>0</td>\n",
       "      <td>1</td>\n",
       "    </tr>\n",
       "    <tr>\n",
       "      <th>51405</th>\n",
       "      <td>144</td>\n",
       "      <td>3</td>\n",
       "      <td>0</td>\n",
       "      <td>4</td>\n",
       "      <td>0</td>\n",
       "      <td>65535</td>\n",
       "      <td>0</td>\n",
       "      <td>184</td>\n",
       "      <td>0</td>\n",
       "      <td>0</td>\n",
       "      <td>...</td>\n",
       "      <td>0</td>\n",
       "      <td>0</td>\n",
       "      <td>0</td>\n",
       "      <td>0</td>\n",
       "      <td>0.0</td>\n",
       "      <td>0</td>\n",
       "      <td>0</td>\n",
       "      <td>0</td>\n",
       "      <td>0</td>\n",
       "      <td>1</td>\n",
       "    </tr>\n",
       "    <tr>\n",
       "      <th>51406</th>\n",
       "      <td>144</td>\n",
       "      <td>3</td>\n",
       "      <td>0</td>\n",
       "      <td>4</td>\n",
       "      <td>0</td>\n",
       "      <td>65535</td>\n",
       "      <td>0</td>\n",
       "      <td>184</td>\n",
       "      <td>0</td>\n",
       "      <td>0</td>\n",
       "      <td>...</td>\n",
       "      <td>0</td>\n",
       "      <td>0</td>\n",
       "      <td>0</td>\n",
       "      <td>0</td>\n",
       "      <td>0.0</td>\n",
       "      <td>0</td>\n",
       "      <td>0</td>\n",
       "      <td>0</td>\n",
       "      <td>0</td>\n",
       "      <td>1</td>\n",
       "    </tr>\n",
       "    <tr>\n",
       "      <th>51407</th>\n",
       "      <td>144</td>\n",
       "      <td>3</td>\n",
       "      <td>0</td>\n",
       "      <td>4</td>\n",
       "      <td>0</td>\n",
       "      <td>65535</td>\n",
       "      <td>0</td>\n",
       "      <td>184</td>\n",
       "      <td>0</td>\n",
       "      <td>0</td>\n",
       "      <td>...</td>\n",
       "      <td>0</td>\n",
       "      <td>0</td>\n",
       "      <td>0</td>\n",
       "      <td>0</td>\n",
       "      <td>0.0</td>\n",
       "      <td>0</td>\n",
       "      <td>0</td>\n",
       "      <td>0</td>\n",
       "      <td>0</td>\n",
       "      <td>1</td>\n",
       "    </tr>\n",
       "  </tbody>\n",
       "</table>\n",
       "<p>5 rows × 109 columns</p>\n",
       "</div>"
      ],
      "text/plain": [
       "       blp  Fp  Rn  Prhdr  Minpar  Maxpar  Ivalss  Ivalsp  doscksum  Iip  ...  \\\n",
       "51403  144   3   0      4       0   65535       0     184         0    0  ...   \n",
       "51404  144   3   0      4       0   65535       0     184         0    0  ...   \n",
       "51405  144   3   0      4       0   65535       0     184         0    0  ...   \n",
       "51406  144   3   0      4       0   65535       0     184         0    0  ...   \n",
       "51407  144   3   0      4       0   65535       0     184         0    0  ...   \n",
       "\n",
       "       bss_viraddr  bss_datsize  bss_ptrrawdat  bss_char  bss_entro  \\\n",
       "51403            0            0              0         0        0.0   \n",
       "51404            0            0              0         0        0.0   \n",
       "51405            0            0              0         0        0.0   \n",
       "51406            0            0              0         0        0.0   \n",
       "51407            0            0              0         0        0.0   \n",
       "\n",
       "       bss_phyaddr.1  bss_virsize.1  bss_viraddr.1  bss_char.1  class  \n",
       "51403              0              0              0           0      1  \n",
       "51404              0              0              0           0      1  \n",
       "51405              0              0              0           0      1  \n",
       "51406              0              0              0           0      1  \n",
       "51407              0              0              0           0      1  \n",
       "\n",
       "[5 rows x 109 columns]"
      ]
     },
     "execution_count": 2,
     "metadata": {},
     "output_type": "execute_result"
    }
   ],
   "source": [
    "somlap.tail()"
   ]
  },
  {
   "cell_type": "code",
   "execution_count": 3,
   "id": "d1417adf-a6f4-4591-9bd0-169609b04bda",
   "metadata": {},
   "outputs": [
    {
     "name": "stdout",
     "output_type": "stream",
     "text": [
      "Index(['blp', 'Fp', 'Rn', 'Prhdr', 'Minpar', 'Maxpar', 'Ivalss', 'Ivalsp',\n",
      "       'doscksum', 'Iip',\n",
      "       ...\n",
      "       'bss_viraddr', 'bss_datsize', 'bss_ptrrawdat', 'bss_char', 'bss_entro',\n",
      "       'bss_phyaddr.1', 'bss_virsize.1', 'bss_viraddr.1', 'bss_char.1',\n",
      "       'class'],\n",
      "      dtype='object', length=109)\n",
      "[0 1]\n"
     ]
    }
   ],
   "source": [
    "print(somlap.columns)\n",
    "print(np.unique(somlap['class']))"
   ]
  },
  {
   "cell_type": "markdown",
   "id": "3aaca3c4-6783-44a9-b4a1-56a0a983e071",
   "metadata": {},
   "source": [
    "SOMLAP contains 51,408 samples, 108 features, and no NaN values. Now we will examine the ratio of benign to malware samples to see if the data set is balanced."
   ]
  },
  {
   "cell_type": "code",
   "execution_count": 4,
   "id": "95ab7091-4d89-4e07-9931-857fdfc17a50",
   "metadata": {},
   "outputs": [
    {
     "data": {
      "text/plain": [
       "class\n",
       "0    31600\n",
       "1    19808\n",
       "Name: count, dtype: int64"
      ]
     },
     "execution_count": 4,
     "metadata": {},
     "output_type": "execute_result"
    }
   ],
   "source": [
    "somlap['class'].value_counts()"
   ]
  },
  {
   "cell_type": "code",
   "execution_count": 2,
   "id": "713c2863-f711-4bf8-b1b4-f9179d526b99",
   "metadata": {},
   "outputs": [
    {
     "data": {
      "image/png": "[encoded data removed]",
      "text/plain": [
       "<Figure size 640x480 with 1 Axes>"
      ]
     },
     "metadata": {},
     "output_type": "display_data"
    }
   ],
   "source": [
    "import matplotlib.pyplot as plt\n",
    "\n",
    "somlap['class'].value_counts().plot(kind=\"pie\",autopct=\"%1.1f%%\", labels=['Benign', 'Malware'])\n",
    "plt.show()"
   ]
  },
  {
   "cell_type": "markdown",
   "id": "8393db6d-1afc-4d55-a49b-edfaf8da56d5",
   "metadata": {},
   "source": [
    "This quick data set analysis reveals three key findings:\n",
    "1. Some of the features' values are significantly larger than others meaning that the data set could benefit from standardization.\n",
    "2. The data set contains 108 features meaning it has a high dimensional space and could benefit from dimensionality reduction using PCA.\n",
    "3. The ratio of benign to malware samples suggest the data set is imbalanced and thus classifiers could be biased toward the majority class.\n",
    "4. Cross validation with Grid Search could be used to find optimal hyperparameters."
   ]
  },
  {
   "cell_type": "markdown",
   "id": "85e29a70-7ac4-4434-bab5-87f9e8a09c12",
   "metadata": {},
   "source": [
    "### Baseline\n",
    "We wish to take a baseline performance that we can compare to later on. The baseline will be the best performing SVC kernel (except linear which we will see why later) using default hyperparameters and standard train/test splits. "
   ]
  },
  {
   "cell_type": "code",
   "execution_count": 2,
   "id": "73e14d05-20df-4e6a-9a31-47bb3e3f620f",
   "metadata": {},
   "outputs": [],
   "source": [
    "from sklearn.model_selection import train_test_split\n",
    "from sklearn.svm import SVC\n",
    "from sklearn.metrics import balanced_accuracy_score\n",
    "from sklearn.decomposition import PCA\n",
    "from sklearn.preprocessing import StandardScaler\n",
    "from sklearn.utils import parallel_backend\n",
    "\n",
    "somlap_X = somlap.drop('class', axis=1).values\n",
    "somlap_y = somlap['class'].values"
   ]
  },
  {
   "cell_type": "code",
   "execution_count": 36,
   "id": "f9e83f33-dcf6-4a72-901d-52b9d1d10406",
   "metadata": {},
   "outputs": [],
   "source": [
    "def take_baseline(X, y, test_size=0.2, random_state=42):\n",
    "    X_train, X_test, y_train, y_test = train_test_split(X, y, test_size=test_size, random_state=random_state)\n",
    "    for kernel in ['poly', 'rbf', 'sigmoid']:\n",
    "        classifier = SVC(kernel=kernel)\n",
    "        with parallel_backend('threading'):\n",
    "            classifier.fit(X_train, y_train)\n",
    "            y_pred = classifier.predict(X_test)\n",
    "\n",
    "            accuracy = balanced_accuracy_score(y_test, y_pred)\n",
    "\n",
    "            print(f'{kernel} kernel accuracy: {accuracy:.4f}')"
   ]
  },
  {
   "cell_type": "code",
   "execution_count": 34,
   "id": "e1b4bce4-e7dd-432f-a13f-cc880a482bc4",
   "metadata": {},
   "outputs": [
    {
     "name": "stdout",
     "output_type": "stream",
     "text": [
      "poly kernel accuracy: 0.8965\n",
      "rbf kernel accuracy: 0.9024\n",
      "sigmoid kernel accuracy: 0.8454\n"
     ]
    }
   ],
   "source": [
    "take_baseline(somlap_X, somlap_y)"
   ]
  },
  {
   "cell_type": "markdown",
   "id": "6d26669a-a55f-40a7-bec3-4bab154159d4",
   "metadata": {},
   "source": [
    "### Standardization and PCA\n",
    "A Gaussian kernel performs the best. Now that we have a baseline we can see how standardizing and reducing the dimensional space of SOMLAP can imporve performance."
   ]
  },
  {
   "cell_type": "code",
   "execution_count": 4,
   "id": "6b5326c9-dc1f-4132-8519-1baa99545bb7",
   "metadata": {},
   "outputs": [],
   "source": [
    "def plot_components_accuracy(results):\n",
    "    plt.plot(list(results.keys()), list(results.values()), marker='o')\n",
    "    plt.title('Accuracies over n_components')\n",
    "    plt.xlabel('n_components')\n",
    "    plt.ylabel('Accuracy')\n",
    "    plt.show()\n",
    "\n",
    "\n",
    "def compute_new_gaussian_svc(X, y, test_size=0.2, random_state=42):\n",
    "    X = StandardScaler().fit_transform(X)\n",
    "\n",
    "    X_train, X_test, y_train, y_test = train_test_split(X, y, test_size=test_size, random_state=random_state)\n",
    "    classifier = SVC(kernel='rbf')\n",
    "    classifier.fit(X_train, y_train)\n",
    "    y_pred = classifier.predict(X_test)\n",
    "    print(f'Accuracy after standardization: {balanced_accuracy_score(y_test, y_pred)}')\n",
    "    \n",
    "    n_components_list = [2, 10, 25, 50, 75, 108]\n",
    "    results = {}\n",
    "    for n_components in n_components_list:\n",
    "        x = PCA(n_components=n_components).fit_transform(X)\n",
    "        X_train, X_test, y_train, y_test = train_test_split(x, y, test_size=test_size, random_state=random_state)\n",
    "        classifier = SVC(kernel='rbf')\n",
    "        with parallel_backend('threading'):\n",
    "            classifier.fit(X_train, y_train)\n",
    "            y_pred = classifier.predict(X_test)\n",
    "             \n",
    "            accuracy = balanced_accuracy_score(y_test, y_pred)\n",
    "            results[n_components] = accuracy\n",
    "    \n",
    "    print(results)\n",
    "    plot_components_accuracy(results)\n",
    "    "
   ]
  },
  {
   "cell_type": "code",
   "execution_count": 5,
   "id": "e8b00bc9-4546-4f78-bb71-ddb9846b0c10",
   "metadata": {},
   "outputs": [
    {
     "name": "stdout",
     "output_type": "stream",
     "text": [
      "Accuracy after standardization: 0.9615306871265678\n",
      "{2: 0.8522921050125881, 10: 0.9232654726024916, 25: 0.9522094077116395, 50: 0.9598712509301242, 75: 0.9608939066884628, 108: 0.9615306871265678}\n"
     ]
    },
    {
     "data": {
      "image/png": "[encoded data removed]",
      "text/plain": [
       "<Figure size 640x480 with 1 Axes>"
      ]
     },
     "metadata": {},
     "output_type": "display_data"
    }
   ],
   "source": [
    "compute_new_gaussian_svc(somlap_X, somlap_y)"
   ]
  },
  {
   "cell_type": "markdown",
   "id": "1abe2b8a-0e44-4d7d-814c-ef23c0e6eb82",
   "metadata": {},
   "source": [
    "### Grid Search and Cross Validation\n",
    "Standardizing SOMLAP resulted in a boost in accuracy. With PCA the accuracy plateaus around 50 components so this will be used going forward.\n",
    "\n",
    "Although accuracy has become quite high we have been using default hyperparameters which may not be the most optimal. Additionally, we have been using generic train/test split with a relatively low test_size. Since SOMLAP is so large we could simply increase the test_size to be 0.5, however, we will use cross validation with StratifiedKFold."
   ]
  },
  {
   "cell_type": "code",
   "execution_count": 8,
   "id": "0701195d-5a27-40a6-8b46-5e185fb1f9e7",
   "metadata": {},
   "outputs": [],
   "source": [
    "from sklearn.pipeline import Pipeline\n",
    "from sklearn.model_selection import GridSearchCV, cross_val_score, StratifiedKFold\n",
    "\n",
    "def nested_cross_validation(X, y, n_components=50, random_state=42, n_splits=5, n_jobs=1):\n",
    "    pipeline = Pipeline([\n",
    "        ('scaler', StandardScaler()),\n",
    "        ('pca', PCA(n_components=n_components)),\n",
    "        ('svc', SVC(kernel='rbf'))\n",
    "    ])\n",
    "\n",
    "    cv = StratifiedKFold(n_splits=n_splits, shuffle=True, random_state=42)\n",
    "    \n",
    "    param_grid = {\n",
    "        'svc__C': [1, 10, 100],\n",
    "        'svc__gamma': [0.001, 0.01, 0.1]\n",
    "    }\n",
    "\n",
    "    classifier = GridSearchCV(estimator=pipeline, param_grid=param_grid, scoring='balanced_accuracy', cv=cv, n_jobs=n_jobs)\n",
    "    classifier.fit(X, y)\n",
    "    accuracies = cross_val_score(classifier, X, y, cv=cv, scoring='balanced_accuracy', n_jobs=n_jobs)\n",
    "    return np.mean(accuracies), classifier.best_params_"
   ]
  },
  {
   "cell_type": "code",
   "execution_count": 6,
   "id": "b0bd2608-5553-4cd6-9f72-94a6f8106cdf",
   "metadata": {},
   "outputs": [
    {
     "ename": "AttributeError",
     "evalue": "'GridSearchCV' object has no attribute 'best_params_'",
     "output_type": "error",
     "traceback": [
      "\u001b[0;31m---------------------------------------------------------------------------\u001b[0m",
      "\u001b[0;31mAttributeError\u001b[0m                            Traceback (most recent call last)",
      "Cell \u001b[0;32mIn[6], line 1\u001b[0m\n\u001b[0;32m----> 1\u001b[0m accuracy, best_params \u001b[38;5;241m=\u001b[39m \u001b[43mnested_cross_validation\u001b[49m\u001b[43m(\u001b[49m\u001b[43msomlap_X\u001b[49m\u001b[43m,\u001b[49m\u001b[43m \u001b[49m\u001b[43msomlap_y\u001b[49m\u001b[43m,\u001b[49m\u001b[43m \u001b[49m\u001b[43mn_jobs\u001b[49m\u001b[38;5;241;43m=\u001b[39;49m\u001b[38;5;241;43m2\u001b[39;49m\u001b[43m)\u001b[49m\n\u001b[1;32m      2\u001b[0m \u001b[38;5;28mprint\u001b[39m(\u001b[38;5;124mf\u001b[39m\u001b[38;5;124m'\u001b[39m\u001b[38;5;124mNested cross validation accuracy \u001b[39m\u001b[38;5;132;01m{\u001b[39;00maccuracy\u001b[38;5;132;01m}\u001b[39;00m\u001b[38;5;124m with hyperparameters \u001b[39m\u001b[38;5;132;01m{\u001b[39;00mbest_params\u001b[38;5;132;01m}\u001b[39;00m\u001b[38;5;124m'\u001b[39m)\n",
      "Cell \u001b[0;32mIn[5], line 20\u001b[0m, in \u001b[0;36mnested_cross_validation\u001b[0;34m(X, y, n_components, random_state, n_splits, n_jobs)\u001b[0m\n\u001b[1;32m     18\u001b[0m classifier \u001b[38;5;241m=\u001b[39m GridSearchCV(estimator\u001b[38;5;241m=\u001b[39mpipeline, param_grid\u001b[38;5;241m=\u001b[39mparam_grid, scoring\u001b[38;5;241m=\u001b[39m\u001b[38;5;124m'\u001b[39m\u001b[38;5;124mbalanced_accuracy\u001b[39m\u001b[38;5;124m'\u001b[39m, cv\u001b[38;5;241m=\u001b[39mcv, n_jobs\u001b[38;5;241m=\u001b[39mn_jobs)\n\u001b[1;32m     19\u001b[0m accuracies \u001b[38;5;241m=\u001b[39m cross_val_score(classifier, X, y, cv\u001b[38;5;241m=\u001b[39mcv, scoring\u001b[38;5;241m=\u001b[39m\u001b[38;5;124m'\u001b[39m\u001b[38;5;124mbalanced_accuracy\u001b[39m\u001b[38;5;124m'\u001b[39m, n_jobs\u001b[38;5;241m=\u001b[39mn_jobs)\n\u001b[0;32m---> 20\u001b[0m \u001b[38;5;28;01mreturn\u001b[39;00m np\u001b[38;5;241m.\u001b[39mmean(accuracies), \u001b[43mclassifier\u001b[49m\u001b[38;5;241;43m.\u001b[39;49m\u001b[43mbest_params_\u001b[49m\n",
      "\u001b[0;31mAttributeError\u001b[0m: 'GridSearchCV' object has no attribute 'best_params_'"
     ]
    }
   ],
   "source": [
    "accuracy, best_params = nested_cross_validation(somlap_X, somlap_y, n_jobs=2)\n",
    "print(f'Nested cross validation accuracy {accuracy} with hyperparameters {best_params}')"
   ]
  },
  {
   "cell_type": "code",
   "execution_count": null,
   "id": "9e5dc5b8-5914-45da-b401-7cd74864da6c",
   "metadata": {},
   "outputs": [],
   "source": []
  }
 ],
 "metadata": {
  "kernelspec": {
   "display_name": "Python 3 (ipykernel)",
   "language": "python",
   "name": "python3"
  },
  "language_info": {
   "codemirror_mode": {
    "name": "ipython",
    "version": 3
   },
   "file_extension": ".py",
   "mimetype": "text/x-python",
   "name": "python",
   "nbconvert_exporter": "python",
   "pygments_lexer": "ipython3",
   "version": "3.11.2"
  }
 },
 "nbformat": 4,
 "nbformat_minor": 5
}
