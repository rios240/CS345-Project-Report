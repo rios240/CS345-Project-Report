{
 "cells": [
  {
   "cell_type": "markdown",
   "id": "6858111f-f149-492c-984d-c2994218920c",
   "metadata": {},
   "source": [
    "# CS345 Project Final Report: Machine Learning Analysis on Windows Portable Executable File Analysis\n",
    "*Author: Tyler Rios*\n",
    "\n",
    "*GitHub: [https://github.com/rios240/CS345-Project-Report](https://github.com/rios240/CS345-Project-Report)*"
   ]
  },
  {
   "cell_type": "markdown",
   "id": "0c1fb6e7-1d2a-4350-9d1c-922b7c064b4a",
   "metadata": {},
   "source": [
    "### Introduction\n",
    "In the ever-evolving landscape of cybersecurity, the detection and analysis of malware are critical tasks for safeguarding digital systems. Windows Portable Executable (PE) files, being a fundamental component of Windows operating systems, are often targeted by malicious actors to execute and propagate malware. This project aims to leverage machine learning techniques to analyze a curated dataset of Windows PE malware, comparing predictive models for malware detection."
   ]
  },
  {
   "cell_type": "markdown",
   "id": "1e4e9922-fef8-41bb-a79a-8436b3a72df2",
   "metadata": {},
   "source": [
    "The dataset employed in this report is the SOMLAP PE Malware which comprises a diverse collection of Windows PE sample files.\n",
    "\n",
    "More information on SOMLAP data set can be found here:\n",
    "- [https://www.kaggle.com/datasets/ravikiranvarmap/somlap-data-set](https://www.kaggle.com/datasets/ravikiranvarmap/somlap-data-set)\n",
    "- Kattamuri, Santosh Jhansi, Ravi Kiran Varma Penmatsa, Sujata Chakravarty, and Venkata Sai Pavan Madabathula. 2023. \"Swarm Optimization and Machine Learning Applied to PE Malware Detection towards Cyber Threat Intelligence\" Electronics 12, no. 2: 342.\n",
    "https://doi.org/10.3390/electronics12020342"
   ]
  },
  {
   "cell_type": "markdown",
   "id": "d904025a-7af7-4d53-ab88-490dbb0c1f16",
   "metadata": {},
   "source": [
    "### Data Exploration"
   ]
  },
  {
   "cell_type": "markdown",
   "id": "50f5bfca-dd6a-49de-9e02-a8f4e9f0997a",
   "metadata": {},
   "source": [
    "We'll begin by importing and showing general information about the dataset that could influence preprocessing and classifier configurations."
   ]
  },
  {
   "cell_type": "code",
   "execution_count": 1,
   "id": "efaf78ab-c3f9-4886-90a8-710313efd5b3",
   "metadata": {},
   "outputs": [
    {
     "data": {
      "text/html": [
       "<div>\n",
       "<style scoped>\n",
       "    .dataframe tbody tr th:only-of-type {\n",
       "        vertical-align: middle;\n",
       "    }\n",
       "\n",
       "    .dataframe tbody tr th {\n",
       "        vertical-align: top;\n",
       "    }\n",
       "\n",
       "    .dataframe thead th {\n",
       "        text-align: right;\n",
       "    }\n",
       "</style>\n",
       "<table border=\"1\" class=\"dataframe\">\n",
       "  <thead>\n",
       "    <tr style=\"text-align: right;\">\n",
       "      <th></th>\n",
       "      <th>blp</th>\n",
       "      <th>Fp</th>\n",
       "      <th>Rn</th>\n",
       "      <th>Prhdr</th>\n",
       "      <th>Minpar</th>\n",
       "      <th>Maxpar</th>\n",
       "      <th>Ivalss</th>\n",
       "      <th>Ivalsp</th>\n",
       "      <th>doscksum</th>\n",
       "      <th>Iip</th>\n",
       "      <th>...</th>\n",
       "      <th>bss_viraddr</th>\n",
       "      <th>bss_datsize</th>\n",
       "      <th>bss_ptrrawdat</th>\n",
       "      <th>bss_char</th>\n",
       "      <th>bss_entro</th>\n",
       "      <th>bss_phyaddr.1</th>\n",
       "      <th>bss_virsize.1</th>\n",
       "      <th>bss_viraddr.1</th>\n",
       "      <th>bss_char.1</th>\n",
       "      <th>class</th>\n",
       "    </tr>\n",
       "  </thead>\n",
       "  <tbody>\n",
       "    <tr>\n",
       "      <th>0</th>\n",
       "      <td>144</td>\n",
       "      <td>3</td>\n",
       "      <td>0</td>\n",
       "      <td>4</td>\n",
       "      <td>0</td>\n",
       "      <td>65535</td>\n",
       "      <td>0</td>\n",
       "      <td>184</td>\n",
       "      <td>0</td>\n",
       "      <td>0</td>\n",
       "      <td>...</td>\n",
       "      <td>0</td>\n",
       "      <td>0</td>\n",
       "      <td>0</td>\n",
       "      <td>0</td>\n",
       "      <td>0.0</td>\n",
       "      <td>0</td>\n",
       "      <td>0</td>\n",
       "      <td>0</td>\n",
       "      <td>0</td>\n",
       "      <td>0</td>\n",
       "    </tr>\n",
       "    <tr>\n",
       "      <th>1</th>\n",
       "      <td>144</td>\n",
       "      <td>3</td>\n",
       "      <td>0</td>\n",
       "      <td>4</td>\n",
       "      <td>0</td>\n",
       "      <td>65535</td>\n",
       "      <td>0</td>\n",
       "      <td>184</td>\n",
       "      <td>0</td>\n",
       "      <td>0</td>\n",
       "      <td>...</td>\n",
       "      <td>0</td>\n",
       "      <td>0</td>\n",
       "      <td>0</td>\n",
       "      <td>0</td>\n",
       "      <td>0.0</td>\n",
       "      <td>0</td>\n",
       "      <td>0</td>\n",
       "      <td>0</td>\n",
       "      <td>0</td>\n",
       "      <td>0</td>\n",
       "    </tr>\n",
       "    <tr>\n",
       "      <th>2</th>\n",
       "      <td>144</td>\n",
       "      <td>3</td>\n",
       "      <td>0</td>\n",
       "      <td>4</td>\n",
       "      <td>0</td>\n",
       "      <td>65535</td>\n",
       "      <td>0</td>\n",
       "      <td>184</td>\n",
       "      <td>0</td>\n",
       "      <td>0</td>\n",
       "      <td>...</td>\n",
       "      <td>0</td>\n",
       "      <td>0</td>\n",
       "      <td>0</td>\n",
       "      <td>0</td>\n",
       "      <td>0.0</td>\n",
       "      <td>0</td>\n",
       "      <td>0</td>\n",
       "      <td>0</td>\n",
       "      <td>0</td>\n",
       "      <td>0</td>\n",
       "    </tr>\n",
       "    <tr>\n",
       "      <th>3</th>\n",
       "      <td>144</td>\n",
       "      <td>3</td>\n",
       "      <td>0</td>\n",
       "      <td>4</td>\n",
       "      <td>0</td>\n",
       "      <td>65535</td>\n",
       "      <td>0</td>\n",
       "      <td>184</td>\n",
       "      <td>0</td>\n",
       "      <td>0</td>\n",
       "      <td>...</td>\n",
       "      <td>0</td>\n",
       "      <td>0</td>\n",
       "      <td>0</td>\n",
       "      <td>0</td>\n",
       "      <td>0.0</td>\n",
       "      <td>0</td>\n",
       "      <td>0</td>\n",
       "      <td>0</td>\n",
       "      <td>0</td>\n",
       "      <td>0</td>\n",
       "    </tr>\n",
       "    <tr>\n",
       "      <th>4</th>\n",
       "      <td>144</td>\n",
       "      <td>3</td>\n",
       "      <td>0</td>\n",
       "      <td>4</td>\n",
       "      <td>0</td>\n",
       "      <td>65535</td>\n",
       "      <td>0</td>\n",
       "      <td>184</td>\n",
       "      <td>0</td>\n",
       "      <td>0</td>\n",
       "      <td>...</td>\n",
       "      <td>0</td>\n",
       "      <td>0</td>\n",
       "      <td>0</td>\n",
       "      <td>0</td>\n",
       "      <td>0.0</td>\n",
       "      <td>0</td>\n",
       "      <td>0</td>\n",
       "      <td>0</td>\n",
       "      <td>0</td>\n",
       "      <td>0</td>\n",
       "    </tr>\n",
       "  </tbody>\n",
       "</table>\n",
       "<p>5 rows × 109 columns</p>\n",
       "</div>"
      ],
      "text/plain": [
       "   blp  Fp  Rn  Prhdr  Minpar  Maxpar  Ivalss  Ivalsp  doscksum  Iip  ...  \\\n",
       "0  144   3   0      4       0   65535       0     184         0    0  ...   \n",
       "1  144   3   0      4       0   65535       0     184         0    0  ...   \n",
       "2  144   3   0      4       0   65535       0     184         0    0  ...   \n",
       "3  144   3   0      4       0   65535       0     184         0    0  ...   \n",
       "4  144   3   0      4       0   65535       0     184         0    0  ...   \n",
       "\n",
       "   bss_viraddr  bss_datsize  bss_ptrrawdat  bss_char  bss_entro  \\\n",
       "0            0            0              0         0        0.0   \n",
       "1            0            0              0         0        0.0   \n",
       "2            0            0              0         0        0.0   \n",
       "3            0            0              0         0        0.0   \n",
       "4            0            0              0         0        0.0   \n",
       "\n",
       "   bss_phyaddr.1  bss_virsize.1  bss_viraddr.1  bss_char.1  class  \n",
       "0              0              0              0           0      0  \n",
       "1              0              0              0           0      0  \n",
       "2              0              0              0           0      0  \n",
       "3              0              0              0           0      0  \n",
       "4              0              0              0           0      0  \n",
       "\n",
       "[5 rows x 109 columns]"
      ]
     },
     "execution_count": 1,
     "metadata": {},
     "output_type": "execute_result"
    }
   ],
   "source": [
    "import pandas as pd\n",
    "import numpy as np\n",
    "\n",
    "url = 'https://raw.githubusercontent.com/rios240/CS345-Project-Report/main/SOMLAP%20DATASET.csv'\n",
    "\n",
    "somlap = pd.read_csv(url)\n",
    "\n",
    "somlap.head()"
   ]
  },
  {
   "cell_type": "code",
   "execution_count": 3,
   "id": "d1417adf-a6f4-4591-9bd0-169609b04bda",
   "metadata": {},
   "outputs": [
    {
     "name": "stdout",
     "output_type": "stream",
     "text": [
      "(51408, 109)\n",
      "Index(['blp', 'Fp', 'Rn', 'Prhdr', 'Minpar', 'Maxpar', 'Ivalss', 'Ivalsp',\n",
      "       'doscksum', 'Iip',\n",
      "       ...\n",
      "       'bss_viraddr', 'bss_datsize', 'bss_ptrrawdat', 'bss_char', 'bss_entro',\n",
      "       'bss_phyaddr.1', 'bss_virsize.1', 'bss_viraddr.1', 'bss_char.1',\n",
      "       'class'],\n",
      "      dtype='object', length=109)\n"
     ]
    },
    {
     "data": {
      "text/plain": [
       "class\n",
       "0    31600\n",
       "1    19808\n",
       "Name: count, dtype: int64"
      ]
     },
     "execution_count": 3,
     "metadata": {},
     "output_type": "execute_result"
    }
   ],
   "source": [
    "print(somlap.shape)\n",
    "print(somlap.columns)\n",
    "somlap['class'].value_counts()"
   ]
  },
  {
   "cell_type": "code",
   "execution_count": 4,
   "id": "713c2863-f711-4bf8-b1b4-f9179d526b99",
   "metadata": {},
   "outputs": [
    {
     "data": {
      "image/png": "[encoded data removed]",
      "text/plain": [
       "<Figure size 640x480 with 1 Axes>"
      ]
     },
     "metadata": {},
     "output_type": "display_data"
    }
   ],
   "source": [
    "import matplotlib.pyplot as plt\n",
    "\n",
    "somlap['class'].value_counts().plot(kind=\"pie\",autopct=\"%1.1f%%\", labels=['Benign', 'Malware'])\n",
    "plt.show()"
   ]
  },
  {
   "cell_type": "markdown",
   "id": "9cb8e710-a05b-4cfd-af3b-bb19ec565388",
   "metadata": {},
   "source": [
    "SOMLAP contains 51,408 samples 31,600 of which are Benign and 19,808 of which are Malware."
   ]
  },
  {
   "cell_type": "markdown",
   "id": "8393db6d-1afc-4d55-a49b-edfaf8da56d5",
   "metadata": {},
   "source": [
    "This quick dataset exploration reveals three key findings:\n",
    "1. Some of the features' values are significantly larger than others meaning that the dataset could benefit from standardization.\n",
    "2. The data set contains 108 features meaning it has a high dimensional space and could benefit from dimensionality reduction using PCA.\n",
    "3. The ratio of benign to malware samples suggest the dataset is imbalanced and thus classifiers could be biased toward the majority class."
   ]
  },
  {
   "cell_type": "markdown",
   "id": "85e29a70-7ac4-4434-bab5-87f9e8a09c12",
   "metadata": {},
   "source": [
    "### Linearly Separable\n",
    "We wish to compute a baseline SVC performance but it would be a good idea to first see if SOMLAP is linearly separable. To do this we use PCA to reduce the dimensions of the dataset. "
   ]
  },
  {
   "cell_type": "code",
   "execution_count": 5,
   "id": "73e14d05-20df-4e6a-9a31-47bb3e3f620f",
   "metadata": {},
   "outputs": [],
   "source": [
    "from sklearn.decomposition import PCA\n",
    "\n",
    "X_somlap = somlap.drop('class', axis=1).values\n",
    "y_somlap = somlap['class'].values"
   ]
  },
  {
   "cell_type": "code",
   "execution_count": 7,
   "id": "ccb98072-b500-4c17-8cda-f7c42beb82bd",
   "metadata": {},
   "outputs": [
    {
     "data": {
      "image/png": "[encoded data removed]",
      "text/plain": [
       "<Figure size 640x480 with 1 Axes>"
      ]
     },
     "metadata": {},
     "output_type": "display_data"
    }
   ],
   "source": [
    "# Reduce down to 2 components.\n",
    "n_components = 10\n",
    "X_somlap_reduced = PCA(n_components=n_components).fit_transform(X_somlap)\n",
    "scatter = plt.scatter(X_somlap_reduced[:, 0], X_somlap_reduced[:, 1], alpha=0.5, c=y_somlap)\n",
    "plt.legend(handles=scatter.legend_elements()[0], labels=['Benign', 'Malware'])\n",
    "plt.show()"
   ]
  },
  {
   "cell_type": "markdown",
   "id": "d7dd4831-f321-4a8a-af1e-fc40b0aae366",
   "metadata": {},
   "source": [
    "The data is clearly not linearly separable so we can exclude a linear kernel from our baseline computation."
   ]
  },
  {
   "cell_type": "markdown",
   "id": "fc58e676-16ca-43dc-be42-55f06b4c6407",
   "metadata": {},
   "source": [
    "### Baselining"
   ]
  },
  {
   "cell_type": "code",
   "execution_count": 6,
   "id": "6f872571-ecfe-4292-92cc-6b6002636529",
   "metadata": {},
   "outputs": [],
   "source": [
    "from sklearn.svm import SVC\n",
    "from sklearn.metrics import balanced_accuracy_score\n",
    "from sklearn.model_selection import train_test_split"
   ]
  },
  {
   "cell_type": "code",
   "execution_count": 17,
   "id": "f9e83f33-dcf6-4a72-901d-52b9d1d10406",
   "metadata": {},
   "outputs": [],
   "source": [
    "def take_baselines(X, y, test_size=0.25, random_state=42):\n",
    "    X_train, X_test, y_train, y_test = train_test_split(X, y, test_size=test_size, random_state=random_state)\n",
    "    for kernel in ['poly', 'rbf', 'sigmoid']:\n",
    "        classifier = SVC(kernel=kernel, class_weight='balanced')\n",
    "        classifier.fit(X_train, y_train)\n",
    "        y_pred = classifier.predict(X_test)\n",
    "\n",
    "        accuracy = balanced_accuracy_score(y_test, y_pred)\n",
    "\n",
    "        print(f'{kernel} kernel accuracy: {accuracy}')"
   ]
  },
  {
   "cell_type": "code",
   "execution_count": 10,
   "id": "e1b4bce4-e7dd-432f-a13f-cc880a482bc4",
   "metadata": {},
   "outputs": [
    {
     "name": "stdout",
     "output_type": "stream",
     "text": [
      "poly kernel accuracy: 0.8968690040118612\n",
      "rbf kernel accuracy: 0.9034585344109154\n",
      "sigmoid kernel accuracy: 0.8410614958234006\n",
      "3min 8s ± 0 ns per loop (mean ± std. dev. of 1 run, 1 loop each)\n"
     ]
    }
   ],
   "source": [
    "%timeit -r 1 -n 1 take_baseline(X_somlap, y_somlap)"
   ]
  },
  {
   "cell_type": "markdown",
   "id": "07684add-aba0-4261-bfbd-7ede8ae7dd5f",
   "metadata": {},
   "source": [
    "### Standardization\n",
    "So a RBF kernel provides the best accuracy for our SOMLAP data. Let's now see how standardizing the dataset can improve accuracy."
   ]
  },
  {
   "cell_type": "code",
   "execution_count": 7,
   "id": "5e3e3a6c-cf51-44ed-bd5a-acb8cb138843",
   "metadata": {},
   "outputs": [],
   "source": [
    "from sklearn.preprocessing import StandardScaler\n",
    "\n",
    "X_somlap_std = StandardScaler().fit_transform(X_somlap)"
   ]
  },
  {
   "cell_type": "code",
   "execution_count": 8,
   "id": "d72143fd-d6a7-47c4-8de3-f857634a5041",
   "metadata": {},
   "outputs": [],
   "source": [
    "def evaluate_classifier(classifier, X, y, test_size=0.25, random_state=42):\n",
    "    X_train, X_test, y_train, y_test = train_test_split(X, y, test_size=test_size, random_state=random_state)\n",
    "    classifier.fit(X_train, y_train)\n",
    "    y_pred = classifier.predict(X_test)\n",
    "    print(f'Accuracy: {balanced_accuracy_score(y_test, y_pred)}')"
   ]
  },
  {
   "cell_type": "code",
   "execution_count": 16,
   "id": "bd551763-130c-4ff8-95f7-7eb075528af2",
   "metadata": {},
   "outputs": [
    {
     "name": "stdout",
     "output_type": "stream",
     "text": [
      "Accuracy: 0.9632100703529275\n",
      "22.4 s ± 0 ns per loop (mean ± std. dev. of 1 run, 1 loop each)\n"
     ]
    }
   ],
   "source": [
    "svc = SVC(kernel='rbf', class_weight='balanced')\n",
    "%timeit -r 1 -n 1 evaluate_classifier(svc, X_somlap_std, y_somlap)"
   ]
  },
  {
   "cell_type": "markdown",
   "id": "b8138efe-2292-458f-892f-0afad2e76cda",
   "metadata": {},
   "source": [
    "### Computational Time Reduction and Accuracy Improvement"
   ]
  },
  {
   "cell_type": "markdown",
   "id": "61d0d2a2-c2b1-485a-a83a-655b0cf98349",
   "metadata": {},
   "source": [
    "With standardization we achieve better performance. However, SVC is computationaly expensive especially for a large dataset like SOMLAP. Reducing the dimensions of SOMLAP can potentially help computation time and might even increase accuracy."
   ]
  },
  {
   "cell_type": "code",
   "execution_count": 9,
   "id": "63ec2763-af4f-4b8b-9e5c-bd56420e5d94",
   "metadata": {},
   "outputs": [],
   "source": [
    "from sklearn.pipeline import Pipeline"
   ]
  },
  {
   "cell_type": "code",
   "execution_count": 18,
   "id": "75b3bec7-68f0-44f2-bee6-e7ab2701defa",
   "metadata": {},
   "outputs": [],
   "source": [
    "def make_pipeline(n_components, kernel='rbf'):\n",
    "    return Pipeline([\n",
    "        ('scaler', StandardScaler()),\n",
    "        ('pca', PCA(n_components=n_components)),\n",
    "        ('svc', SVC(kernel=kernel, class_weight='balanced'))\n",
    "    ])\n",
    "\n",
    "def plot_parameters_accuracy(results):\n",
    "    plt.plot(list(results.keys()), list(results.values()), marker='o')\n",
    "    plt.title('Accuracies over n_components')\n",
    "    plt.xlabel('n_components')\n",
    "    plt.ylabel('Accuracy')\n",
    "    plt.show()\n",
    "\n",
    "def compute_svc_with_pca(X, y, test_size=0.25, random_state=42):\n",
    "    n_components_list = [2, 10, 25, 50, 75, 108]\n",
    "    results = {}\n",
    "    for n_components in n_components_list:\n",
    "        X_train, X_test, y_train, y_test = train_test_split(X, y, test_size=test_size, random_state=random_state)\n",
    "        classifier = make_pipeline(n_components)\n",
    "        classifier.fit(X_train, y_train)\n",
    "        y_pred = classifier.predict(X_test)\n",
    "        accuracy = balanced_accuracy_score(y_test, y_pred)\n",
    "\n",
    "        results[n_components] = accuracy\n",
    "\n",
    "    print(results)\n",
    "    plot_parameters_accuracy(results)"
   ]
  },
  {
   "cell_type": "code",
   "execution_count": 19,
   "id": "db7db16d-e068-42f4-b57d-cfaf31de44cd",
   "metadata": {},
   "outputs": [
    {
     "name": "stdout",
     "output_type": "stream",
     "text": [
      "{2: 0.8403976975405547, 10: 0.9276217609550943, 25: 0.9522016783921545, 50: 0.9612719731767351, 75: 0.9634474872570111, 108: 0.9636509874605113}\n"
     ]
    },
    {
     "data": {
      "image/png": "[encoded data removed]",
      "text/plain": [
       "<Figure size 640x480 with 1 Axes>"
      ]
     },
     "metadata": {},
     "output_type": "display_data"
    }
   ],
   "source": [
    "compute_svc_with_pca(X_somlap, y_somlap)"
   ]
  },
  {
   "cell_type": "markdown",
   "id": "bd8b7c15-6ddb-4208-a08a-b784eddbf33d",
   "metadata": {},
   "source": [
    "With PCA accuracy plateau's around 50 components so this will be used in future operations. Now we will look at the individual execution time to see if it imporves."
   ]
  },
  {
   "cell_type": "code",
   "execution_count": 21,
   "id": "71ad35b2-5201-410c-ac47-93ab2b41e1e1",
   "metadata": {},
   "outputs": [
    {
     "name": "stdout",
     "output_type": "stream",
     "text": [
      "Accuracy: 0.9612719731767351\n",
      "15.2 s ± 0 ns per loop (mean ± std. dev. of 1 run, 1 loop each)\n"
     ]
    }
   ],
   "source": [
    "classifier = make_pipeline(50)\n",
    "%timeit -r 1 -n 1 evaluate_classifier(classifier, X_somlap_std, y_somlap)"
   ]
  },
  {
   "cell_type": "markdown",
   "id": "81b75555-76f1-47d9-9715-1c88b1a8e1dd",
   "metadata": {},
   "source": [
    "Bagging ensembles which can evaluate SVCs on subsets of the data might be another way to reduce computation time.The BaggingClassifier takes in a max_samples parameter which dictates the subset of samples and max_features which dictates the subset of features. It also takes in an n_jobs parameter to run in parallel."
   ]
  },
  {
   "cell_type": "code",
   "execution_count": 15,
   "id": "13513f73-86dd-4c2c-9ddf-938f65417838",
   "metadata": {},
   "outputs": [],
   "source": [
    "from sklearn.ensemble import BaggingClassifier\n",
    "\n",
    "def make_pipeline_bagging(max_samples, max_features, n_components=50, random_state=42, kernel='rbf', n_jobs=3):\n",
    "    return Pipeline([\n",
    "        ('scaler', StandardScaler()),\n",
    "        ('classifier', BaggingClassifier(estimator=SVC(kernel=kernel, class_weight='balanced'), max_samples=max_samples,\n",
    "                                          max_features=max_features, random_state=random_state, n_jobs=n_jobs))\n",
    "    ])\n",
    "\n",
    "def plot_parameters_accuracy(results):\n",
    "    plt.plot(list(results.keys()), list(results.values()), marker='o')\n",
    "    plt.title('Accuracies over max_features')\n",
    "    plt.xlabel('max_features')\n",
    "    plt.ylabel('Accuracy')\n",
    "    plt.show()\n",
    "    \n",
    "def compute_bagging(X, y, max_features=0.5, test_size=0.25, random_state=42):\n",
    "    max_samples_features_list = [(0.25, max_features), (0.5, max_features), (0.75, max_features)]\n",
    "    results = {}\n",
    "    for max_samples, max_features in max_samples_features_list:\n",
    "        X_train, X_test, y_train, y_test = train_test_split(X, y, test_size=test_size, random_state=random_state)\n",
    "        classifier = make_pipeline_bagging(max_samples, max_features)\n",
    "        classifier.fit(X_train, y_train)\n",
    "        y_pred = classifier.predict(X_test)\n",
    "        accuracy = balanced_accuracy_score(y_test, y_pred)\n",
    "\n",
    "        results[max_samples] = accuracy\n",
    "\n",
    "\n",
    "    print(results)\n",
    "    plot_parameters_accuracy(results)"
   ]
  },
  {
   "cell_type": "code",
   "execution_count": 16,
   "id": "0af86234-f813-4092-abe8-e326da806cdd",
   "metadata": {},
   "outputs": [
    {
     "name": "stdout",
     "output_type": "stream",
     "text": [
      "{0.25: 0.9569790879314689, 0.5: 0.9613882590073066, 0.75: 0.9628369866465105}\n"
     ]
    },
    {
     "data": {
      "image/png": "[encoded data removed]",
      "text/plain": [
       "<Figure size 640x480 with 1 Axes>"
      ]
     },
     "metadata": {},
     "output_type": "display_data"
    }
   ],
   "source": [
    "compute_bagging(X_somlap, y_somlap)"
   ]
  },
  {
   "cell_type": "markdown",
   "id": "6dc3ae03-cac9-4fac-a4ea-f8e5b9a0c5e3",
   "metadata": {},
   "source": [
    "Taking 50% of SOMLAP samples and 50% of the features we get an accuracy close to the one for PCA. Now we will see if the execution time is better with bagging."
   ]
  },
  {
   "cell_type": "code",
   "execution_count": 31,
   "id": "3954a9b7-88d2-40a4-956c-ba8f159e1f28",
   "metadata": {},
   "outputs": [
    {
     "name": "stdout",
     "output_type": "stream",
     "text": [
      "Accuracy: 0.9613882590073066\n",
      "23.4 s ± 0 ns per loop (mean ± std. dev. of 1 run, 1 loop each)\n"
     ]
    }
   ],
   "source": [
    "classifier = make_pipeline_bagging(0.5, 0.5)\n",
    "%timeit -r 1 -n 1 evaluate_classifier(classifier, X_somlap_std, y_somlap)"
   ]
  },
  {
   "cell_type": "markdown",
   "id": "b7eca209-b40e-45c7-9307-7886027bfcb0",
   "metadata": {},
   "source": [
    "In the case of SOMLAP it seems better to use PCA to gain better execution time. For bagging you must take a large subset of SOMLAP samples to obtain an accuracy close to the baseline SVC but for a worse execution time."
   ]
  },
  {
   "cell_type": "markdown",
   "id": "ba4a24cb-d779-45cf-9049-fc149e4d9d17",
   "metadata": {},
   "source": [
    "### SVC Hyperparameters, Random Forests, and Gradient Boosting\n",
    "Let's now compare our SVC performance with Random Forests, Gradient Boosting, and Histogram Gradient Boosting. \n",
    "- Random Forests builds multiple Decision Trees on subsets of the data then merges them together.\n",
    "- Gradient Boosting builds a sequence of decision trees with each one correcting the errors of the previous.\n",
    "- Histogram Gradient Boosting is a varient of gradient boosting that uses histograms during the splitting process, this reduces computation cost and is beneficial for large datasets like SOMLAP\n",
    "\n",
    "All three are not only computationally fast but also very accurate. As such let's first try to maximize the accuracy for SVC by computing the optimal hyperparamters using train/validation/test splits."
   ]
  },
  {
   "cell_type": "code",
   "execution_count": 11,
   "id": "0d5c1e7a-60ef-4f08-8006-46aa1159350a",
   "metadata": {},
   "outputs": [],
   "source": [
    "from sklearn.ensemble import RandomForestClassifier\n",
    "from sklearn.ensemble import GradientBoostingClassifier\n",
    "from sklearn.ensemble import HistGradientBoostingClassifier"
   ]
  },
  {
   "cell_type": "code",
   "execution_count": 13,
   "id": "10ccb59c-690f-49e4-a957-abeba7f04ad4",
   "metadata": {},
   "outputs": [],
   "source": [
    "def three_way_split(X, y, r_train=0.5, r_valid=0.25, r_test=0.25, random_state=42):\n",
    "    X_temp, X_test, y_temp, y_test = train_test_split(X, y, test_size = r_test, random_state=42)\n",
    "    X_train, X_valid, y_train, y_valid = train_test_split(\n",
    "        X_temp, y_temp, test_size = r_valid / (r_train + r_valid), random_state=42)\n",
    "    return X_train, y_train, X_valid, y_valid, X_test, y_test\n",
    "\n",
    "\n",
    "def optimal_hyperparameter(classifier, C, gamma, C_values, gamma_values,\n",
    "                           X_train, X_valid, y_train, y_valid):\n",
    "    optimal_accuracy = 0\n",
    "    optimal_C = None\n",
    "    optimal_gamma = None\n",
    "    for C_value in C_values:\n",
    "        for gamma_value in gamma_values:\n",
    "            param_dict = {C : C_value, gamma: gamma_value}\n",
    "            classifier.set_params(**param_dict)\n",
    "            classifier.fit(X_train, y_train)\n",
    "            y_pred = classifier.predict(X_valid)\n",
    "            current_accuracy = balanced_accuracy_score(y_valid, y_pred)\n",
    "\n",
    "            if current_accuracy > optimal_accuracy:\n",
    "                optimal_accuracy = current_accuracy\n",
    "                optimal_C = C_value\n",
    "                optimal_gamma = gamma_value\n",
    "    return optimal_C, optimal_gamma\n",
    "\n",
    "\n",
    "def evaluate_svc(classifier, X, y, C_values, gamma_values, r_train=0.5, r_valid=0.25, r_test=0.25, \n",
    "                 C='svc__C', gamma='svc__gamma'):\n",
    "    X_train, y_train, X_valid, y_valid, X_test, y_test = three_way_split(X, y)\n",
    "\n",
    "    C_value, gamma_value = optimal_hyperparameter(classifier, C, gamma, C_values, gamma_values, X_train, X_valid, y_train, y_valid)\n",
    "\n",
    "    param_dict = {C : C_value, gamma: gamma_value}\n",
    "    classifier.set_params(**param_dict)\n",
    "    classifier.fit(X_train, y_train)\n",
    "    y_pred = classifier.predict(X_test)\n",
    "\n",
    "    print(f'Accuracy {balanced_accuracy_score(y_test, y_pred)} with C {C_value} and gamma {gamma_value}')"
   ]
  },
  {
   "cell_type": "markdown",
   "id": "9db4147e-fcab-4ffd-ac50-2c328bc2c0a7",
   "metadata": {},
   "source": [
    "#### Hyperparameter Selection with SVC"
   ]
  },
  {
   "cell_type": "code",
   "execution_count": 14,
   "id": "41b153fa-03c5-405c-8be4-18e617c308e9",
   "metadata": {},
   "outputs": [
    {
     "name": "stdout",
     "output_type": "stream",
     "text": [
      "Accuracy 0.9753716301335349 with C 1000 and gamma 1.0\n",
      "5min 38s ± 0 ns per loop (mean ± std. dev. of 1 run, 1 loop each)\n"
     ]
    }
   ],
   "source": [
    "classifier = Pipeline([\n",
    "    ('scaler', StandardScaler()),\n",
    "    ('pca', PCA(n_components=50)),\n",
    "    ('svc', SVC(kernel='rbf', class_weight='balanced'))\n",
    "])\n",
    "\n",
    "gamma_values = [0.001, 1.0, 10.0]\n",
    "C_values = [10, 100, 1000]\n",
    "\n",
    "%timeit -r 1 -n 1 evaluate_svc(classifier, X_somlap, y_somlap, C_values, gamma_values)"
   ]
  },
  {
   "cell_type": "markdown",
   "id": "14e1c0f7-2765-485e-9d31-84ed853a84d0",
   "metadata": {},
   "source": [
    "#### Random Forest Classification"
   ]
  },
  {
   "cell_type": "code",
   "execution_count": 10,
   "id": "3995a00b-61e8-4e13-a196-4ef2ee608b07",
   "metadata": {},
   "outputs": [
    {
     "name": "stdout",
     "output_type": "stream",
     "text": [
      "Accuracy: 0.9929743977363026\n",
      "750 ms ± 0 ns per loop (mean ± std. dev. of 1 run, 1 loop each)\n"
     ]
    }
   ],
   "source": [
    "random_forest = Pipeline([\n",
    "    ('scaler', StandardScaler()),\n",
    "    ('random_forest', RandomForestClassifier(n_estimators=100, max_samples=0.25,\n",
    "                                             random_state=42, class_weight='balanced', n_jobs=3))\n",
    "])\n",
    "%timeit -r 1 -n 1 evaluate_classifier(random_forest, X_somlap, y_somlap)"
   ]
  },
  {
   "cell_type": "markdown",
   "id": "45e5014b-0e28-4252-bca4-613b9088a48c",
   "metadata": {},
   "source": [
    "#### Gradient Boosting Classification"
   ]
  },
  {
   "cell_type": "code",
   "execution_count": 11,
   "id": "020b0630-1572-42f0-8627-b37dfa42c91f",
   "metadata": {},
   "outputs": [
    {
     "name": "stdout",
     "output_type": "stream",
     "text": [
      "Accuracy: 0.9898056088532279\n",
      "19.7 s ± 0 ns per loop (mean ± std. dev. of 1 run, 1 loop each)\n"
     ]
    }
   ],
   "source": [
    "gradient_boosting = Pipeline([\n",
    "    ('scaler', StandardScaler()),\n",
    "    ('gradient_boosting', GradientBoostingClassifier(n_estimators=100, random_state=42))\n",
    "])\n",
    "\n",
    "%timeit -r 1 -n 1 evaluate_classifier(gradient_boosting, X_somlap, y_somlap)"
   ]
  },
  {
   "cell_type": "markdown",
   "id": "004f9eb9-e958-45b8-ad6b-da5ac602cd30",
   "metadata": {},
   "source": [
    "#### Gradient Boosting Using Histograms"
   ]
  },
  {
   "cell_type": "code",
   "execution_count": 12,
   "id": "7957a93b-caed-4c1c-9ed8-e1b57e0c4f3f",
   "metadata": {},
   "outputs": [
    {
     "name": "stdout",
     "output_type": "stream",
     "text": [
      "Accuracy: 0.99476229238134\n",
      "1.34 s ± 0 ns per loop (mean ± std. dev. of 1 run, 1 loop each)\n"
     ]
    }
   ],
   "source": [
    "hist_gradient_boosting = Pipeline([\n",
    "    ('scaler', StandardScaler()),\n",
    "    ('gradient_boosting', HistGradientBoostingClassifier(max_iter=100, random_state=42, l2_regularization=0.001))\n",
    "])\n",
    "\n",
    "%timeit -r 1 -n 1 evaluate_classifier(hist_gradient_boosting, X_somlap, y_somlap)"
   ]
  },
  {
   "cell_type": "markdown",
   "id": "f7668f73-b89c-47b2-81b0-bf62a7c0def8",
   "metadata": {},
   "source": [
    "### Summary\n",
    "In this report we evaluated various machine learning estimators on SOMLAP a Windows PE Malware dataset. We took a baseline SVC and found that using a a RBF kernel provided the most accurate result. We then employed a number of techniques such as Principle Component Analysis and Standardization to try to reduce computational time for our baseline SVC. In the process we found that simple PCA with 50 components was more efficient then attempting to use a bagging-meta estimator with the SVC. We used train/validation/test splits to find optimal hyperparameters (C and gamma values) for the SVC gaining additional accuacy. Finnally, we used RandomForestClassifier, GradientBoostingClassifier, and HistGradientBoostingClassifier on SOMLAP and discoverge that not only are they much less computationally extraneous then SVCs but they provide even better acccuracy.  "
   ]
  }
 ],
 "metadata": {
  "kernelspec": {
   "display_name": "Python 3 (ipykernel)",
   "language": "python",
   "name": "python3"
  },
  "language_info": {
   "codemirror_mode": {
    "name": "ipython",
    "version": 3
   },
   "file_extension": ".py",
   "mimetype": "text/x-python",
   "name": "python",
   "nbconvert_exporter": "python",
   "pygments_lexer": "ipython3",
   "version": "3.11.2"
  }
 },
 "nbformat": 4,
 "nbformat_minor": 5
}
